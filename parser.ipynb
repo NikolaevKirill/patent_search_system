{
 "cells": [
  {
   "cell_type": "code",
   "execution_count": 371,
   "metadata": {},
   "outputs": [],
   "source": [
    "import requests\n",
    "from bs4 import BeautifulSoup\n",
    "import pandas as pd"
   ]
  },
  {
   "cell_type": "code",
   "execution_count": 368,
   "metadata": {},
   "outputs": [],
   "source": [
    "def parse_patent(html_code):\n",
    "    \"\"\"Функция собирает всю необходимую информацию о патенте с html-кода.\n",
    "\n",
    "    Args:\n",
    "        html_code (lxml): html-код страницы патента \n",
    "\n",
    "    Returns:\n",
    "        list: [\n",
    "                date - дата подачи заявки,\n",
    "                quotes - список цитированных в отчёте документов,\n",
    "                authors - авторы,\n",
    "                patent_owner - патентообладатель,\n",
    "                mpk - МПК,\n",
    "                spk - СПК,\n",
    "                country - страна,\n",
    "                number - Номер патента,\n",
    "                type_of_document - тип документа,\n",
    "                title - название патента,\n",
    "                abstract - реферат,\n",
    "                sources_of_information - источники информации,\n",
    "                patent_claims - формула патента,\n",
    "                patent_description - описание патента,\n",
    "                ]\n",
    "\n",
    "    \"\"\"\n",
    "    keys_data_1 = html_code.find('table', id='bib').find('tr').findAll('td')[0].findAll('p')\n",
    "    keys_data_2 = html_code.find('table', id='bib').find('tr').findAll('td')[1].findAll('p')\n",
    "\n",
    "    ind_of_prior = [ind for ind, i in enumerate(keys_data_1) if 'Приоритет' in i.text][0] # индекс \"Приоритет(ы)\"\n",
    "    date = keys_data_1[ind_of_prior+1].text.split()[-1] # Дата подачи заявки\n",
    "    quotes = keys_data_1[ind_of_prior+3].find('b').text.split('. ') # Список документов, цитированных в отчете о поиске 5 или 6?\n",
    "    \n",
    "    authors = keys_data_2[0].find('b').text[1:].split(',') # Автор(ы)\n",
    "    patent_owner = keys_data_2[1].find('b').text[1:] # Патентообладатель(и)\n",
    "\n",
    "    keys_data_3 = html_code.find('table', class_='tp').findAll('tr')\n",
    "    mpk = [' '.join(i.text[1:-1].split()) for i in keys_data_3[3].find('div').find('ul').findAll('li')] # МПК\n",
    "    try:\n",
    "        spk = [' '.join(i.text[1:-1].split()) for i in keys_data_3[5].find('div').find('ul').findAll('li')] # СПК\n",
    "    except AttributeError:\n",
    "        spk = [keys_data_3[5].text]\n",
    "\n",
    "    keys_data_4 = html_code.find('table', class_='tp').findAll('div', class_='topfield2')\n",
    "    country = keys_data_4[0].text # Страна\n",
    "    number = keys_data_4[1].text[1:-1].replace(\" \", \"\") # Номер патента\n",
    "    type_of_document = keys_data_4[2].text # Тип документа\n",
    "\n",
    "    title = ' '.join(html_code.find('p', id='B542').text.split()[1:]) # Название патента\n",
    "    abstract = html_code.find('div', id='Abs').findAll('p')[1].text[:-1] # Реферат патента\n",
    "\n",
    "    all_patent = [i.text for i in html_code.findAll('p')[13:-8] if not ('\\n\\n' == i.text)] # Весь патент\n",
    "\n",
    "    ind_source_of_information = [ind for ind, i in enumerate(all_patent) if i == \"Источники информации\"][0] # Индекс \"Источники информации\"\n",
    "    ind_patent_claims = [ind for ind, i in enumerate(all_patent) if i == \"Формула изобретения\"][0] # индекс \"Формула патента\"\n",
    "\n",
    "    patent_description = all_patent[:ind_source_of_information] # Описание патента без реферата и формулы\n",
    "    sources_of_information = all_patent[ind_source_of_information+1:ind_patent_claims] # Источники информации\n",
    "    patent_claims = all_patent[ind_patent_claims+1:] # Формула патента\n",
    "\n",
    "    return [date, quotes, authors, patent_owner, mpk, spk, country, number, type_of_document, title, abstract, sources_of_information, patent_claims, patent_description]\n"
   ]
  },
  {
   "cell_type": "code",
   "execution_count": 369,
   "metadata": {},
   "outputs": [],
   "source": [
    "urls = [\"https://new.fips.ru/registers-doc-view/fips_servlet?DB=RUPAT&DocNumber=2637505&TypeFile=html\",\n",
    "\"https://new.fips.ru/registers-doc-view/fips_servlet?DB=RUPAT&DocNumber=2640290&TypeFile=html\"]\n",
    "\n",
    "infos_about_patents = []\n",
    "for link in urls:\n",
    "    r = requests.get(link)\n",
    "    soup = BeautifulSoup(r.text, 'lxml')\n",
    "    parsed_info = parse_patent(soup)\n",
    "    infos_about_patents.append(parsed_info)"
   ]
  },
  {
   "cell_type": "code",
   "execution_count": 370,
   "metadata": {},
   "outputs": [],
   "source": [
    "headers = ['date', 'quotes', 'authors', 'patent_owner', 'mpk', 'spk', 'country', 'number', 'type_of_document', 'title', 'abstract', 'sources_of_information', 'patent_claims', 'patent_description']\n",
    "infos = pd.DataFrame(infos_about_patents, columns=headers)\n",
    "infos.to_csv('about_patents1.csv')"
   ]
  },
  {
   "cell_type": "code",
   "execution_count": null,
   "metadata": {},
   "outputs": [],
   "source": []
  }
 ],
 "metadata": {
  "kernelspec": {
   "display_name": "Python 3",
   "language": "python",
   "name": "python3"
  },
  "language_info": {
   "codemirror_mode": {
    "name": "ipython",
    "version": 3
   },
   "file_extension": ".py",
   "mimetype": "text/x-python",
   "name": "python",
   "nbconvert_exporter": "python",
   "pygments_lexer": "ipython3",
   "version": "3.8.2"
  },
  "orig_nbformat": 4,
  "vscode": {
   "interpreter": {
    "hash": "a42579e49751352c260acb8a961a7e5a6467153a056d5503dc065206adeac815"
   }
  }
 },
 "nbformat": 4,
 "nbformat_minor": 2
}
